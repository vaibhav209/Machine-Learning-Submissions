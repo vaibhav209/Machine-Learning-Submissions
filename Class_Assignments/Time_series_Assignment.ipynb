{
  "nbformat": 4,
  "nbformat_minor": 0,
  "metadata": {
    "kernelspec": {
      "display_name": "Python 3",
      "language": "python",
      "name": "python3"
    },
    "language_info": {
      "codemirror_mode": {
        "name": "ipython",
        "version": 3
      },
      "file_extension": ".py",
      "mimetype": "text/x-python",
      "name": "python",
      "nbconvert_exporter": "python",
      "pygments_lexer": "ipython3",
      "version": "3.8.3"
    },
    "colab": {
      "name": "Time series Assignment.ipynb",
      "provenance": []
    }
  },
  "cells": [
    {
      "cell_type": "code",
      "metadata": {
        "id": "6ATkqynjdZ5g"
      },
      "source": [
        "import pandas as pd\n",
        "import matplotlib.pyplot as plt"
      ],
      "execution_count": null,
      "outputs": []
    },
    {
      "cell_type": "code",
      "metadata": {
        "id": "7DhWxqHNdZ5k",
        "outputId": "0ba5947c-c004-45fc-8334-c65b8d4db05d"
      },
      "source": [
        "df=pd.read_csv(r'TATAMOTORS.NS.csv', parse_dates=[\"Date\"],index_col=\"Date\")\n",
        "df.head()"
      ],
      "execution_count": null,
      "outputs": [
        {
          "output_type": "execute_result",
          "data": {
            "text/html": [
              "<div>\n",
              "<style scoped>\n",
              "    .dataframe tbody tr th:only-of-type {\n",
              "        vertical-align: middle;\n",
              "    }\n",
              "\n",
              "    .dataframe tbody tr th {\n",
              "        vertical-align: top;\n",
              "    }\n",
              "\n",
              "    .dataframe thead th {\n",
              "        text-align: right;\n",
              "    }\n",
              "</style>\n",
              "<table border=\"1\" class=\"dataframe\">\n",
              "  <thead>\n",
              "    <tr style=\"text-align: right;\">\n",
              "      <th></th>\n",
              "      <th>Open</th>\n",
              "      <th>High</th>\n",
              "      <th>Low</th>\n",
              "      <th>Close</th>\n",
              "      <th>Adj Close</th>\n",
              "      <th>Volume</th>\n",
              "    </tr>\n",
              "    <tr>\n",
              "      <th>Date</th>\n",
              "      <th></th>\n",
              "      <th></th>\n",
              "      <th></th>\n",
              "      <th></th>\n",
              "      <th></th>\n",
              "      <th></th>\n",
              "    </tr>\n",
              "  </thead>\n",
              "  <tbody>\n",
              "    <tr>\n",
              "      <th>2020-04-16</th>\n",
              "      <td>71.750000</td>\n",
              "      <td>75.400002</td>\n",
              "      <td>71.000000</td>\n",
              "      <td>74.650002</td>\n",
              "      <td>74.650002</td>\n",
              "      <td>47910164.0</td>\n",
              "    </tr>\n",
              "    <tr>\n",
              "      <th>2020-04-17</th>\n",
              "      <td>78.300003</td>\n",
              "      <td>78.300003</td>\n",
              "      <td>74.699997</td>\n",
              "      <td>76.849998</td>\n",
              "      <td>76.849998</td>\n",
              "      <td>58333485.0</td>\n",
              "    </tr>\n",
              "    <tr>\n",
              "      <th>2020-04-20</th>\n",
              "      <td>76.849998</td>\n",
              "      <td>83.400002</td>\n",
              "      <td>75.500000</td>\n",
              "      <td>80.449997</td>\n",
              "      <td>80.449997</td>\n",
              "      <td>125425355.0</td>\n",
              "    </tr>\n",
              "    <tr>\n",
              "      <th>2020-04-21</th>\n",
              "      <td>78.000000</td>\n",
              "      <td>78.000000</td>\n",
              "      <td>74.000000</td>\n",
              "      <td>74.650002</td>\n",
              "      <td>74.650002</td>\n",
              "      <td>58248325.0</td>\n",
              "    </tr>\n",
              "    <tr>\n",
              "      <th>2020-04-22</th>\n",
              "      <td>74.449997</td>\n",
              "      <td>76.550003</td>\n",
              "      <td>72.550003</td>\n",
              "      <td>75.900002</td>\n",
              "      <td>75.900002</td>\n",
              "      <td>56529293.0</td>\n",
              "    </tr>\n",
              "  </tbody>\n",
              "</table>\n",
              "</div>"
            ],
            "text/plain": [
              "                 Open       High        Low      Close  Adj Close       Volume\n",
              "Date                                                                          \n",
              "2020-04-16  71.750000  75.400002  71.000000  74.650002  74.650002   47910164.0\n",
              "2020-04-17  78.300003  78.300003  74.699997  76.849998  76.849998   58333485.0\n",
              "2020-04-20  76.849998  83.400002  75.500000  80.449997  80.449997  125425355.0\n",
              "2020-04-21  78.000000  78.000000  74.000000  74.650002  74.650002   58248325.0\n",
              "2020-04-22  74.449997  76.550003  72.550003  75.900002  75.900002   56529293.0"
            ]
          },
          "metadata": {
            "tags": []
          },
          "execution_count": 12
        }
      ]
    },
    {
      "cell_type": "code",
      "metadata": {
        "id": "6hFAGqSDdZ5l",
        "outputId": "21c3455d-e153-4ebb-f6ba-7ec5f190d5b2"
      },
      "source": [
        "df.dtypes"
      ],
      "execution_count": null,
      "outputs": [
        {
          "output_type": "execute_result",
          "data": {
            "text/plain": [
              "Open         float64\n",
              "High         float64\n",
              "Low          float64\n",
              "Close        float64\n",
              "Adj Close    float64\n",
              "Volume       float64\n",
              "dtype: object"
            ]
          },
          "metadata": {
            "tags": []
          },
          "execution_count": 13
        }
      ]
    },
    {
      "cell_type": "code",
      "metadata": {
        "id": "KBtOq7jTdZ5m",
        "outputId": "f0e5b99c-eb10-4335-e443-5dd404168fdf"
      },
      "source": [
        "df.info"
      ],
      "execution_count": null,
      "outputs": [
        {
          "output_type": "execute_result",
          "data": {
            "text/plain": [
              "<bound method DataFrame.info of                   Open        High         Low       Close   Adj Close  \\\n",
              "Date                                                                     \n",
              "2020-04-16   71.750000   75.400002   71.000000   74.650002   74.650002   \n",
              "2020-04-17   78.300003   78.300003   74.699997   76.849998   76.849998   \n",
              "2020-04-20   76.849998   83.400002   75.500000   80.449997   80.449997   \n",
              "2020-04-21   78.000000   78.000000   74.000000   74.650002   74.650002   \n",
              "2020-04-22   74.449997   76.550003   72.550003   75.900002   75.900002   \n",
              "...                ...         ...         ...         ...         ...   \n",
              "2021-04-09  313.200012  325.000000  312.500000  318.200012  318.200012   \n",
              "2021-04-12  307.850006  307.850006  282.899994  286.549988  286.549988   \n",
              "2021-04-13  287.250000  304.549988  280.549988  302.850006  302.850006   \n",
              "2021-04-15  303.000000  307.549988  296.500000  303.500000  303.500000   \n",
              "2021-04-16  302.000000  315.000000  300.149994  310.000000  310.000000   \n",
              "\n",
              "                 Volume  \n",
              "Date                     \n",
              "2020-04-16   47910164.0  \n",
              "2020-04-17   58333485.0  \n",
              "2020-04-20  125425355.0  \n",
              "2020-04-21   58248325.0  \n",
              "2020-04-22   56529293.0  \n",
              "...                 ...  \n",
              "2021-04-09   75462572.0  \n",
              "2021-04-12  105342538.0  \n",
              "2021-04-13  116874853.0  \n",
              "2021-04-15   75262749.0  \n",
              "2021-04-16   75322975.0  \n",
              "\n",
              "[252 rows x 6 columns]>"
            ]
          },
          "metadata": {
            "tags": []
          },
          "execution_count": 14
        }
      ]
    },
    {
      "cell_type": "code",
      "metadata": {
        "id": "Wq_XuhdddZ5m",
        "outputId": "574b2004-719c-41e4-847b-539320918122"
      },
      "source": [
        "df.describe"
      ],
      "execution_count": null,
      "outputs": [
        {
          "output_type": "execute_result",
          "data": {
            "text/plain": [
              "<bound method NDFrame.describe of                   Open        High         Low       Close   Adj Close  \\\n",
              "Date                                                                     \n",
              "2020-04-16   71.750000   75.400002   71.000000   74.650002   74.650002   \n",
              "2020-04-17   78.300003   78.300003   74.699997   76.849998   76.849998   \n",
              "2020-04-20   76.849998   83.400002   75.500000   80.449997   80.449997   \n",
              "2020-04-21   78.000000   78.000000   74.000000   74.650002   74.650002   \n",
              "2020-04-22   74.449997   76.550003   72.550003   75.900002   75.900002   \n",
              "...                ...         ...         ...         ...         ...   \n",
              "2021-04-09  313.200012  325.000000  312.500000  318.200012  318.200012   \n",
              "2021-04-12  307.850006  307.850006  282.899994  286.549988  286.549988   \n",
              "2021-04-13  287.250000  304.549988  280.549988  302.850006  302.850006   \n",
              "2021-04-15  303.000000  307.549988  296.500000  303.500000  303.500000   \n",
              "2021-04-16  302.000000  315.000000  300.149994  310.000000  310.000000   \n",
              "\n",
              "                 Volume  \n",
              "Date                     \n",
              "2020-04-16   47910164.0  \n",
              "2020-04-17   58333485.0  \n",
              "2020-04-20  125425355.0  \n",
              "2020-04-21   58248325.0  \n",
              "2020-04-22   56529293.0  \n",
              "...                 ...  \n",
              "2021-04-09   75462572.0  \n",
              "2021-04-12  105342538.0  \n",
              "2021-04-13  116874853.0  \n",
              "2021-04-15   75262749.0  \n",
              "2021-04-16   75322975.0  \n",
              "\n",
              "[252 rows x 6 columns]>"
            ]
          },
          "metadata": {
            "tags": []
          },
          "execution_count": 15
        }
      ]
    },
    {
      "cell_type": "code",
      "metadata": {
        "id": "uaw2-ejDdZ5n",
        "outputId": "539b2ee5-c704-4d94-d647-e8e82fcb3361"
      },
      "source": [
        "df.plot()\n",
        "plt.grid(True)"
      ],
      "execution_count": null,
      "outputs": [
        {
          "output_type": "display_data",
          "data": {
            "image/png": "[encoded data removed]",
            "text/plain": [
              "<Figure size 432x288 with 1 Axes>"
            ]
          },
          "metadata": {
            "tags": [],
            "needs_background": "light"
          }
        }
      ]
    },
    {
      "cell_type": "code",
      "metadata": {
        "id": "cD4gp7VAdZ5n",
        "outputId": "3cc941dd-740c-4be3-aa32-7f1a9dd89a71"
      },
      "source": [
        "df['Close'].resample('M').mean().head()"
      ],
      "execution_count": null,
      "outputs": [
        {
          "output_type": "execute_result",
          "data": {
            "text/plain": [
              "Date\n",
              "2020-04-30     77.813636\n",
              "2020-05-31     83.876316\n",
              "2020-06-30    102.184092\n",
              "2020-07-31    105.219565\n",
              "2020-08-31    125.542856\n",
              "Freq: M, Name: Close, dtype: float64"
            ]
          },
          "metadata": {
            "tags": []
          },
          "execution_count": 17
        }
      ]
    },
    {
      "cell_type": "markdown",
      "metadata": {
        "id": "nFMWDaq7dZ5o"
      },
      "source": [
        "#### 1. What was the best time you will suggest your client to buy stock of Tata Motors?"
      ]
    },
    {
      "cell_type": "markdown",
      "metadata": {
        "id": "g5CzfLp1dZ5o"
      },
      "source": [
        "##### Ans: Feb 2021 is the best time to buy this stock"
      ]
    },
    {
      "cell_type": "markdown",
      "metadata": {
        "id": "b8s_-C-1dZ5o"
      },
      "source": [
        "#### 2. Is there any seasonality in the data?"
      ]
    },
    {
      "cell_type": "markdown",
      "metadata": {
        "id": "194YVNvNdZ5p"
      },
      "source": [
        "##### Ans: Yes the data is seasonal type of data"
      ]
    },
    {
      "cell_type": "markdown",
      "metadata": {
        "id": "dt38WR56dZ5p"
      },
      "source": [
        "#### 3. Is there any trend in the data?"
      ]
    },
    {
      "cell_type": "markdown",
      "metadata": {
        "id": "Jw4bK5lOdZ5p"
      },
      "source": [
        "##### Ans: Yes the data is also showed as trend type data"
      ]
    },
    {
      "cell_type": "markdown",
      "metadata": {
        "id": "ZGYIbx39dZ5q"
      },
      "source": [
        "#### 4. What is the lowest month average for Closing ?"
      ]
    },
    {
      "cell_type": "code",
      "metadata": {
        "id": "VzuwlpmXdZ5q",
        "outputId": "e31b0227-3ab5-40d0-def0-12831832ad4a"
      },
      "source": [
        "%matplotlib inline\n",
        "df['Close'].plot()"
      ],
      "execution_count": null,
      "outputs": [
        {
          "output_type": "execute_result",
          "data": {
            "text/plain": [
              "<AxesSubplot:xlabel='Date'>"
            ]
          },
          "metadata": {
            "tags": []
          },
          "execution_count": 18
        },
        {
          "output_type": "display_data",
          "data": {
            "image/png": "[encoded data removed]",
            "text/plain": [
              "<Figure size 432x288 with 1 Axes>"
            ]
          },
          "metadata": {
            "tags": [],
            "needs_background": "light"
          }
        }
      ]
    },
    {
      "cell_type": "code",
      "metadata": {
        "id": "5hPsbBHydZ5q",
        "outputId": "e53bf582-31df-4d0a-c7e5-7b2f6c7439c5"
      },
      "source": [
        "df['2020-06'].Close.mean()"
      ],
      "execution_count": null,
      "outputs": [
        {
          "output_type": "stream",
          "text": [
            "<ipython-input-19-1453d9bb41e8>:1: FutureWarning: Indexing a DataFrame with a datetimelike index using a single string to slice the rows, like `frame[string]`, is deprecated and will be removed in a future version. Use `frame.loc[string]` instead.\n",
            "  df['2020-06'].Close.mean()\n"
          ],
          "name": "stderr"
        },
        {
          "output_type": "execute_result",
          "data": {
            "text/plain": [
              "102.18409150000002"
            ]
          },
          "metadata": {
            "tags": []
          },
          "execution_count": 19
        }
      ]
    },
    {
      "cell_type": "markdown",
      "metadata": {
        "id": "ZLJf70-xdZ5r"
      },
      "source": [
        "#### 5. What is the highest month average for Closing ?"
      ]
    },
    {
      "cell_type": "code",
      "metadata": {
        "id": "edVkh4oVdZ5r",
        "outputId": "a3147b2e-bfbc-419c-acab-69b5317e959e"
      },
      "source": [
        "df['2021-02'].Close.mean()"
      ],
      "execution_count": null,
      "outputs": [
        {
          "output_type": "stream",
          "text": [
            "<ipython-input-21-2c9490546a55>:1: FutureWarning: Indexing a DataFrame with a datetimelike index using a single string to slice the rows, like `frame[string]`, is deprecated and will be removed in a future version. Use `frame.loc[string]` instead.\n",
            "  df['2021-02'].Close.mean()\n"
          ],
          "name": "stderr"
        },
        {
          "output_type": "execute_result",
          "data": {
            "text/plain": [
              "322.4800003000001"
            ]
          },
          "metadata": {
            "tags": []
          },
          "execution_count": 21
        }
      ]
    },
    {
      "cell_type": "code",
      "metadata": {
        "id": "Gt0xzRCqdZ5r"
      },
      "source": [
        ""
      ],
      "execution_count": null,
      "outputs": []
    }
  ]
}