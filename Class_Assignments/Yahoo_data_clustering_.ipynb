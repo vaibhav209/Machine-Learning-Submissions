{
  "nbformat": 4,
  "nbformat_minor": 0,
  "metadata": {
    "kernelspec": {
      "display_name": "Python 3",
      "language": "python",
      "name": "python3"
    },
    "language_info": {
      "codemirror_mode": {
        "name": "ipython",
        "version": 3
      },
      "file_extension": ".py",
      "mimetype": "text/x-python",
      "name": "python",
      "nbconvert_exporter": "python",
      "pygments_lexer": "ipython3",
      "version": "3.8.3"
    },
    "colab": {
      "name": "Yahoo data clustering_.ipynb",
      "provenance": []
    }
  },
  "cells": [
    {
      "cell_type": "markdown",
      "metadata": {
        "id": "RgAf8ejqbYbN"
      },
      "source": [
        "## K-means clustering on Yahoo data"
      ]
    },
    {
      "cell_type": "code",
      "metadata": {
        "id": "1OKuHqwZbYbP"
      },
      "source": [
        ""
      ],
      "execution_count": null,
      "outputs": []
    },
    {
      "cell_type": "code",
      "metadata": {
        "id": "qgq9kP0EbYbQ"
      },
      "source": [
        "import pandas as pd\n",
        "import seaborn as sns\n",
        "import matplotlib.pyplot as plt\n",
        "%matplotlib inline"
      ],
      "execution_count": null,
      "outputs": []
    },
    {
      "cell_type": "markdown",
      "metadata": {
        "id": "JCB64CL3bYbR"
      },
      "source": [
        "## Import  Data"
      ]
    },
    {
      "cell_type": "code",
      "metadata": {
        "id": "Vr_GxjzNbYbR"
      },
      "source": [
        "from sklearn.datasets import make_blobs\n",
        "import matplotlib.pyplot  as plt\n",
        "import seaborn as sns"
      ],
      "execution_count": null,
      "outputs": []
    },
    {
      "cell_type": "code",
      "metadata": {
        "id": "3WKxSOxmbYbR"
      },
      "source": [
        "# import Data\n",
        "col_names=['Date', 'A', 'B', 'C','D','E']\n",
        "data = pd.read_csv(r\"yahoo.csv\", names=col_names)"
      ],
      "execution_count": null,
      "outputs": []
    },
    {
      "cell_type": "code",
      "metadata": {
        "id": "WGq8tTUnbYbS",
        "outputId": "ca5fa5c1-757b-4ce2-f64a-5299c4779a38"
      },
      "source": [
        "data.head()"
      ],
      "execution_count": null,
      "outputs": [
        {
          "output_type": "execute_result",
          "data": {
            "text/html": [
              "<div>\n",
              "<style scoped>\n",
              "    .dataframe tbody tr th:only-of-type {\n",
              "        vertical-align: middle;\n",
              "    }\n",
              "\n",
              "    .dataframe tbody tr th {\n",
              "        vertical-align: top;\n",
              "    }\n",
              "\n",
              "    .dataframe thead th {\n",
              "        text-align: right;\n",
              "    }\n",
              "</style>\n",
              "<table border=\"1\" class=\"dataframe\">\n",
              "  <thead>\n",
              "    <tr style=\"text-align: right;\">\n",
              "      <th></th>\n",
              "      <th>Date</th>\n",
              "      <th>A</th>\n",
              "      <th>B</th>\n",
              "      <th>C</th>\n",
              "      <th>D</th>\n",
              "      <th>E</th>\n",
              "    </tr>\n",
              "  </thead>\n",
              "  <tbody>\n",
              "    <tr>\n",
              "      <th>0</th>\n",
              "      <td>2002-01-03</td>\n",
              "      <td>18.700001</td>\n",
              "      <td>19.290001</td>\n",
              "      <td>18.540001</td>\n",
              "      <td>9.565</td>\n",
              "      <td>up</td>\n",
              "    </tr>\n",
              "    <tr>\n",
              "      <th>1</th>\n",
              "      <td>2002-01-04</td>\n",
              "      <td>19.000000</td>\n",
              "      <td>19.809999</td>\n",
              "      <td>18.530001</td>\n",
              "      <td>9.450</td>\n",
              "      <td>down</td>\n",
              "    </tr>\n",
              "    <tr>\n",
              "      <th>2</th>\n",
              "      <td>2002-01-07</td>\n",
              "      <td>18.700001</td>\n",
              "      <td>19.940001</td>\n",
              "      <td>18.650000</td>\n",
              "      <td>9.865</td>\n",
              "      <td>up</td>\n",
              "    </tr>\n",
              "    <tr>\n",
              "      <th>3</th>\n",
              "      <td>2002-01-08</td>\n",
              "      <td>19.400000</td>\n",
              "      <td>19.730000</td>\n",
              "      <td>19.250000</td>\n",
              "      <td>9.765</td>\n",
              "      <td>down</td>\n",
              "    </tr>\n",
              "    <tr>\n",
              "      <th>4</th>\n",
              "      <td>2002-01-09</td>\n",
              "      <td>19.799999</td>\n",
              "      <td>21.350000</td>\n",
              "      <td>19.770000</td>\n",
              "      <td>10.125</td>\n",
              "      <td>up</td>\n",
              "    </tr>\n",
              "  </tbody>\n",
              "</table>\n",
              "</div>"
            ],
            "text/plain": [
              "         Date          A          B          C       D     E\n",
              "0  2002-01-03  18.700001  19.290001  18.540001   9.565    up\n",
              "1  2002-01-04  19.000000  19.809999  18.530001   9.450  down\n",
              "2  2002-01-07  18.700001  19.940001  18.650000   9.865    up\n",
              "3  2002-01-08  19.400000  19.730000  19.250000   9.765  down\n",
              "4  2002-01-09  19.799999  21.350000  19.770000  10.125    up"
            ]
          },
          "metadata": {
            "tags": []
          },
          "execution_count": 5
        }
      ]
    },
    {
      "cell_type": "code",
      "metadata": {
        "id": "UPv4KL70bYbT",
        "outputId": "86d59b69-e426-4747-9bd8-eb8212b42b3b"
      },
      "source": [
        "data.dtypes"
      ],
      "execution_count": null,
      "outputs": [
        {
          "output_type": "execute_result",
          "data": {
            "text/plain": [
              "Date     object\n",
              "A       float64\n",
              "B       float64\n",
              "C       float64\n",
              "D       float64\n",
              "E        object\n",
              "dtype: object"
            ]
          },
          "metadata": {
            "tags": []
          },
          "execution_count": 6
        }
      ]
    },
    {
      "cell_type": "code",
      "metadata": {
        "id": "MpvKX1ABbYbT"
      },
      "source": [
        "# code the variable E as 0 when up and 1 when down\n",
        "import numpy as np\n",
        "\n",
        "data['E'] = np.where(data['E'] == \"down\", 1, 0)"
      ],
      "execution_count": null,
      "outputs": []
    },
    {
      "cell_type": "code",
      "metadata": {
        "id": "pvTCICy-bYbU",
        "outputId": "7c18d7fa-7aef-4a9a-c0ae-b6efe159b7b2"
      },
      "source": [
        "data.head()"
      ],
      "execution_count": null,
      "outputs": [
        {
          "output_type": "execute_result",
          "data": {
            "text/html": [
              "<div>\n",
              "<style scoped>\n",
              "    .dataframe tbody tr th:only-of-type {\n",
              "        vertical-align: middle;\n",
              "    }\n",
              "\n",
              "    .dataframe tbody tr th {\n",
              "        vertical-align: top;\n",
              "    }\n",
              "\n",
              "    .dataframe thead th {\n",
              "        text-align: right;\n",
              "    }\n",
              "</style>\n",
              "<table border=\"1\" class=\"dataframe\">\n",
              "  <thead>\n",
              "    <tr style=\"text-align: right;\">\n",
              "      <th></th>\n",
              "      <th>Date</th>\n",
              "      <th>A</th>\n",
              "      <th>B</th>\n",
              "      <th>C</th>\n",
              "      <th>D</th>\n",
              "      <th>E</th>\n",
              "    </tr>\n",
              "  </thead>\n",
              "  <tbody>\n",
              "    <tr>\n",
              "      <th>0</th>\n",
              "      <td>2002-01-03</td>\n",
              "      <td>18.700001</td>\n",
              "      <td>19.290001</td>\n",
              "      <td>18.540001</td>\n",
              "      <td>9.565</td>\n",
              "      <td>0</td>\n",
              "    </tr>\n",
              "    <tr>\n",
              "      <th>1</th>\n",
              "      <td>2002-01-04</td>\n",
              "      <td>19.000000</td>\n",
              "      <td>19.809999</td>\n",
              "      <td>18.530001</td>\n",
              "      <td>9.450</td>\n",
              "      <td>1</td>\n",
              "    </tr>\n",
              "    <tr>\n",
              "      <th>2</th>\n",
              "      <td>2002-01-07</td>\n",
              "      <td>18.700001</td>\n",
              "      <td>19.940001</td>\n",
              "      <td>18.650000</td>\n",
              "      <td>9.865</td>\n",
              "      <td>0</td>\n",
              "    </tr>\n",
              "    <tr>\n",
              "      <th>3</th>\n",
              "      <td>2002-01-08</td>\n",
              "      <td>19.400000</td>\n",
              "      <td>19.730000</td>\n",
              "      <td>19.250000</td>\n",
              "      <td>9.765</td>\n",
              "      <td>1</td>\n",
              "    </tr>\n",
              "    <tr>\n",
              "      <th>4</th>\n",
              "      <td>2002-01-09</td>\n",
              "      <td>19.799999</td>\n",
              "      <td>21.350000</td>\n",
              "      <td>19.770000</td>\n",
              "      <td>10.125</td>\n",
              "      <td>0</td>\n",
              "    </tr>\n",
              "  </tbody>\n",
              "</table>\n",
              "</div>"
            ],
            "text/plain": [
              "         Date          A          B          C       D  E\n",
              "0  2002-01-03  18.700001  19.290001  18.540001   9.565  0\n",
              "1  2002-01-04  19.000000  19.809999  18.530001   9.450  1\n",
              "2  2002-01-07  18.700001  19.940001  18.650000   9.865  0\n",
              "3  2002-01-08  19.400000  19.730000  19.250000   9.765  1\n",
              "4  2002-01-09  19.799999  21.350000  19.770000  10.125  0"
            ]
          },
          "metadata": {
            "tags": []
          },
          "execution_count": 8
        }
      ]
    },
    {
      "cell_type": "code",
      "metadata": {
        "id": "hLa4vYqGbYbU",
        "outputId": "7e718bf3-eee4-4769-fd14-fbd291e2bada"
      },
      "source": [
        "data.isnull().sum()"
      ],
      "execution_count": null,
      "outputs": [
        {
          "output_type": "execute_result",
          "data": {
            "text/plain": [
              "Date    0\n",
              "A       0\n",
              "B       0\n",
              "C       0\n",
              "D       0\n",
              "E       0\n",
              "dtype: int64"
            ]
          },
          "metadata": {
            "tags": []
          },
          "execution_count": 9
        }
      ]
    },
    {
      "cell_type": "code",
      "metadata": {
        "id": "Ke7s7zgrbYbU",
        "outputId": "e34e6153-f4ee-44bc-8719-b201afd3f34c"
      },
      "source": [
        "X = data[[\"B\",\"C\",\"D\",\"E\"]]\n",
        "#Visualise data points\n",
        "plt.scatter(X[\"B\"],X[\"C\"],X[\"D\"],X[\"E\"],cmap='rainbow')"
      ],
      "execution_count": null,
      "outputs": [
        {
          "output_type": "execute_result",
          "data": {
            "text/plain": [
              "<matplotlib.collections.PathCollection at 0x8354988>"
            ]
          },
          "metadata": {
            "tags": []
          },
          "execution_count": 10
        },
        {
          "output_type": "display_data",
          "data": {
            "image/png": "[encoded data removed]",
            "text/plain": [
              "<Figure size 432x288 with 1 Axes>"
            ]
          },
          "metadata": {
            "tags": [],
            "needs_background": "light"
          }
        }
      ]
    },
    {
      "cell_type": "markdown",
      "metadata": {
        "id": "Q_-MUwTEbYbV"
      },
      "source": [
        "## Visualize Data"
      ]
    },
    {
      "cell_type": "markdown",
      "metadata": {
        "id": "JZYQQ4mcbYbV"
      },
      "source": [
        "## Creating the Clusters"
      ]
    },
    {
      "cell_type": "code",
      "metadata": {
        "id": "MtkF_OtVbYbV"
      },
      "source": [
        "from sklearn.cluster import KMeans"
      ],
      "execution_count": null,
      "outputs": []
    },
    {
      "cell_type": "code",
      "metadata": {
        "id": "yHUEwD-VbYbW"
      },
      "source": [
        "kmeans = KMeans(n_clusters=5)"
      ],
      "execution_count": null,
      "outputs": []
    },
    {
      "cell_type": "code",
      "metadata": {
        "id": "cdPKzdDMbYbW",
        "outputId": "17d770b6-0876-400b-a08d-0ee9adf3a846"
      },
      "source": [
        "kmeans.fit(X)"
      ],
      "execution_count": null,
      "outputs": [
        {
          "output_type": "execute_result",
          "data": {
            "text/plain": [
              "KMeans(algorithm='auto', copy_x=True, init='k-means++', max_iter=300,\n",
              "       n_clusters=5, n_init=10, n_jobs=None, precompute_distances='auto',\n",
              "       random_state=None, tol=0.0001, verbose=0)"
            ]
          },
          "metadata": {
            "tags": []
          },
          "execution_count": 13
        }
      ]
    },
    {
      "cell_type": "code",
      "metadata": {
        "id": "oc3C2CYmbYbW",
        "outputId": "c0b424a7-99e7-4473-ebbf-54be3d580bcd"
      },
      "source": [
        "#Center of the clusters\n",
        "kmeans.cluster_centers_"
      ],
      "execution_count": null,
      "outputs": [
        {
          "output_type": "execute_result",
          "data": {
            "text/plain": [
              "array([[16.1377413 , 15.59291554, 14.00134384,  0.5080429 ],\n",
              "       [35.19402166, 34.32165402, 34.74582703,  0.49189189],\n",
              "       [27.69510329, 26.86013367, 25.51391861,  0.49696233],\n",
              "       [43.97209925, 43.08632044, 43.52659135,  0.48306998],\n",
              "       [45.78378063, 44.36121945, 22.54399395,  0.48780488]])"
            ]
          },
          "metadata": {
            "tags": []
          },
          "execution_count": 14
        }
      ]
    },
    {
      "cell_type": "code",
      "metadata": {
        "id": "mqf35jIFbYbX",
        "outputId": "2902fe38-629e-47e7-f470-d889b3b968f6"
      },
      "source": [
        "#predicted clusters\n",
        "kmeans.labels_"
      ],
      "execution_count": null,
      "outputs": [
        {
          "output_type": "execute_result",
          "data": {
            "text/plain": [
              "array([0, 0, 0, ..., 3, 3, 3])"
            ]
          },
          "metadata": {
            "tags": []
          },
          "execution_count": 15
        }
      ]
    },
    {
      "cell_type": "code",
      "metadata": {
        "id": "x78LdzDabYbX",
        "outputId": "8dd8d3b2-84a2-40c4-d376-701d553dd3d8"
      },
      "source": [
        "kmeans.inertia_"
      ],
      "execution_count": null,
      "outputs": [
        {
          "output_type": "execute_result",
          "data": {
            "text/plain": [
              "103367.68753122847"
            ]
          },
          "metadata": {
            "tags": []
          },
          "execution_count": 16
        }
      ]
    },
    {
      "cell_type": "markdown",
      "metadata": {
        "id": "R7Xlfa_CbYbX"
      },
      "source": [
        "# To Find the optimal values of K"
      ]
    },
    {
      "cell_type": "code",
      "metadata": {
        "id": "W1neqXjrbYbY"
      },
      "source": [
        "Sum_of_squared_distances = []\n",
        "K = range(1,15)\n",
        "for k in K:\n",
        "    km = KMeans(n_clusters=k)\n",
        "    km = km.fit(X)\n",
        "    Sum_of_squared_distances.append(km.inertia_)"
      ],
      "execution_count": null,
      "outputs": []
    },
    {
      "cell_type": "code",
      "metadata": {
        "id": "jwovNH-ObYbY",
        "outputId": "67f976bc-dd6e-43a1-b231-948ae56d4c24"
      },
      "source": [
        "Sum_of_squared_distances"
      ],
      "execution_count": null,
      "outputs": [
        {
          "output_type": "execute_result",
          "data": {
            "text/plain": [
              "[1354895.5967496806,\n",
              " 372493.802393569,\n",
              " 202970.14652444655,\n",
              " 147625.78893649264,\n",
              " 103367.93753943473,\n",
              " 86108.41931286111,\n",
              " 70870.99355513413,\n",
              " 56793.314193500664,\n",
              " 47481.691604393156,\n",
              " 41223.776617787815,\n",
              " 34951.68416830183,\n",
              " 30192.088785728054,\n",
              " 26745.995059838195,\n",
              " 23324.225517313178]"
            ]
          },
          "metadata": {
            "tags": []
          },
          "execution_count": 18
        }
      ]
    },
    {
      "cell_type": "code",
      "metadata": {
        "id": "zb85Xp_ObYbY",
        "outputId": "4bb71340-e962-4671-e0cf-3cb4d10c8f2a"
      },
      "source": [
        "plt.plot(K, Sum_of_squared_distances, 'bx-')\n",
        "plt.xlabel('k')\n",
        "plt.ylabel('Sum_of_squared_distances')\n",
        "plt.title('Elbow Method For Optimal k')\n",
        "plt.show()"
      ],
      "execution_count": null,
      "outputs": [
        {
          "output_type": "display_data",
          "data": {
            "image/png": "[encoded data removed]",
            "text/plain": [
              "<Figure size 432x288 with 1 Axes>"
            ]
          },
          "metadata": {
            "tags": [],
            "needs_background": "light"
          }
        }
      ]
    },
    {
      "cell_type": "code",
      "metadata": {
        "id": "6FSwW6hHbYbZ"
      },
      "source": [
        ""
      ],
      "execution_count": null,
      "outputs": []
    },
    {
      "cell_type": "code",
      "metadata": {
        "id": "rNUvIQNAbYbZ"
      },
      "source": [
        ""
      ],
      "execution_count": null,
      "outputs": []
    }
  ]
}