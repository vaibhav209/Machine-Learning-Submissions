{
  "nbformat": 4,
  "nbformat_minor": 0,
  "metadata": {
    "kernelspec": {
      "display_name": "Python 3",
      "language": "python",
      "name": "python3"
    },
    "language_info": {
      "codemirror_mode": {
        "name": "ipython",
        "version": 3
      },
      "file_extension": ".py",
      "mimetype": "text/x-python",
      "name": "python",
      "nbconvert_exporter": "python",
      "pygments_lexer": "ipython3",
      "version": "3.6.5"
    },
    "colab": {
      "name": "DBSCAN clustaring of glass data.ipynb",
      "provenance": []
    }
  },
  "cells": [
    {
      "cell_type": "code",
      "metadata": {
        "id": "S7rlzWRsbFSS"
      },
      "source": [
        "import numpy as np\n",
        "import pandas as pd\n",
        "from sklearn.cluster import DBSCAN\n",
        "from sklearn.decomposition import PCA\n",
        "from sklearn import metrics\n",
        "from sklearn.datasets.samples_generator import make_blobs\n",
        "from sklearn.preprocessing import StandardScaler\n",
        "import matplotlib.pyplot as plt\n",
        "%matplotlib inline"
      ],
      "execution_count": null,
      "outputs": []
    },
    {
      "cell_type": "code",
      "metadata": {
        "id": "gqaLdpNybFSV",
        "outputId": "546319b3-bacc-442d-e215-2d4678570c3f"
      },
      "source": [
        "df=pd.read_excel('glass.csv.xlsx')\n",
        "df.tail()"
      ],
      "execution_count": null,
      "outputs": [
        {
          "output_type": "execute_result",
          "data": {
            "text/html": [
              "<div>\n",
              "<style scoped>\n",
              "    .dataframe tbody tr th:only-of-type {\n",
              "        vertical-align: middle;\n",
              "    }\n",
              "\n",
              "    .dataframe tbody tr th {\n",
              "        vertical-align: top;\n",
              "    }\n",
              "\n",
              "    .dataframe thead th {\n",
              "        text-align: right;\n",
              "    }\n",
              "</style>\n",
              "<table border=\"1\" class=\"dataframe\">\n",
              "  <thead>\n",
              "    <tr style=\"text-align: right;\">\n",
              "      <th></th>\n",
              "      <th>Id</th>\n",
              "      <th>RI</th>\n",
              "      <th>Na</th>\n",
              "      <th>Mg</th>\n",
              "      <th>Al</th>\n",
              "      <th>Si</th>\n",
              "      <th>K</th>\n",
              "      <th>Ca</th>\n",
              "      <th>Ba</th>\n",
              "      <th>Fe</th>\n",
              "      <th>Type</th>\n",
              "    </tr>\n",
              "  </thead>\n",
              "  <tbody>\n",
              "    <tr>\n",
              "      <th>209</th>\n",
              "      <td>210</td>\n",
              "      <td>1.51623</td>\n",
              "      <td>14.14</td>\n",
              "      <td>0.0</td>\n",
              "      <td>2.88</td>\n",
              "      <td>72.61</td>\n",
              "      <td>0.08</td>\n",
              "      <td>9.18</td>\n",
              "      <td>1.06</td>\n",
              "      <td>0.0</td>\n",
              "      <td>7</td>\n",
              "    </tr>\n",
              "    <tr>\n",
              "      <th>210</th>\n",
              "      <td>211</td>\n",
              "      <td>1.51685</td>\n",
              "      <td>14.92</td>\n",
              "      <td>0.0</td>\n",
              "      <td>1.99</td>\n",
              "      <td>73.06</td>\n",
              "      <td>0.00</td>\n",
              "      <td>8.40</td>\n",
              "      <td>1.59</td>\n",
              "      <td>0.0</td>\n",
              "      <td>7</td>\n",
              "    </tr>\n",
              "    <tr>\n",
              "      <th>211</th>\n",
              "      <td>212</td>\n",
              "      <td>1.52065</td>\n",
              "      <td>14.36</td>\n",
              "      <td>0.0</td>\n",
              "      <td>2.02</td>\n",
              "      <td>73.42</td>\n",
              "      <td>0.00</td>\n",
              "      <td>8.44</td>\n",
              "      <td>1.64</td>\n",
              "      <td>0.0</td>\n",
              "      <td>7</td>\n",
              "    </tr>\n",
              "    <tr>\n",
              "      <th>212</th>\n",
              "      <td>213</td>\n",
              "      <td>1.51651</td>\n",
              "      <td>14.38</td>\n",
              "      <td>0.0</td>\n",
              "      <td>1.94</td>\n",
              "      <td>73.61</td>\n",
              "      <td>0.00</td>\n",
              "      <td>8.48</td>\n",
              "      <td>1.57</td>\n",
              "      <td>0.0</td>\n",
              "      <td>7</td>\n",
              "    </tr>\n",
              "    <tr>\n",
              "      <th>213</th>\n",
              "      <td>214</td>\n",
              "      <td>1.51711</td>\n",
              "      <td>14.23</td>\n",
              "      <td>0.0</td>\n",
              "      <td>2.08</td>\n",
              "      <td>73.36</td>\n",
              "      <td>0.00</td>\n",
              "      <td>8.62</td>\n",
              "      <td>1.67</td>\n",
              "      <td>0.0</td>\n",
              "      <td>7</td>\n",
              "    </tr>\n",
              "  </tbody>\n",
              "</table>\n",
              "</div>"
            ],
            "text/plain": [
              "      Id       RI     Na   Mg    Al     Si     K    Ca    Ba   Fe  Type\n",
              "209  210  1.51623  14.14  0.0  2.88  72.61  0.08  9.18  1.06  0.0     7\n",
              "210  211  1.51685  14.92  0.0  1.99  73.06  0.00  8.40  1.59  0.0     7\n",
              "211  212  1.52065  14.36  0.0  2.02  73.42  0.00  8.44  1.64  0.0     7\n",
              "212  213  1.51651  14.38  0.0  1.94  73.61  0.00  8.48  1.57  0.0     7\n",
              "213  214  1.51711  14.23  0.0  2.08  73.36  0.00  8.62  1.67  0.0     7"
            ]
          },
          "metadata": {
            "tags": []
          },
          "execution_count": 57
        }
      ]
    },
    {
      "cell_type": "code",
      "metadata": {
        "id": "wITnX0iZbFSW",
        "outputId": "1c38efd9-6ea3-4814-f38b-b1d2b9a31352"
      },
      "source": [
        "df.info()"
      ],
      "execution_count": null,
      "outputs": [
        {
          "output_type": "stream",
          "text": [
            "<class 'pandas.core.frame.DataFrame'>\n",
            "RangeIndex: 214 entries, 0 to 213\n",
            "Data columns (total 11 columns):\n",
            " #   Column  Non-Null Count  Dtype  \n",
            "---  ------  --------------  -----  \n",
            " 0   Id      214 non-null    int64  \n",
            " 1   RI      214 non-null    float64\n",
            " 2   Na      214 non-null    float64\n",
            " 3   Mg      214 non-null    float64\n",
            " 4   Al      214 non-null    float64\n",
            " 5   Si      214 non-null    float64\n",
            " 6   K       214 non-null    float64\n",
            " 7   Ca      214 non-null    float64\n",
            " 8   Ba      214 non-null    float64\n",
            " 9   Fe      214 non-null    float64\n",
            " 10  Type    214 non-null    int64  \n",
            "dtypes: float64(9), int64(2)\n",
            "memory usage: 18.5 KB\n"
          ],
          "name": "stdout"
        }
      ]
    },
    {
      "cell_type": "code",
      "metadata": {
        "id": "Bs86-8QbbFSX",
        "outputId": "39088871-f887-4367-f38c-7897b58f3946"
      },
      "source": [
        "df.describe()"
      ],
      "execution_count": null,
      "outputs": [
        {
          "output_type": "execute_result",
          "data": {
            "text/html": [
              "<div>\n",
              "<style scoped>\n",
              "    .dataframe tbody tr th:only-of-type {\n",
              "        vertical-align: middle;\n",
              "    }\n",
              "\n",
              "    .dataframe tbody tr th {\n",
              "        vertical-align: top;\n",
              "    }\n",
              "\n",
              "    .dataframe thead th {\n",
              "        text-align: right;\n",
              "    }\n",
              "</style>\n",
              "<table border=\"1\" class=\"dataframe\">\n",
              "  <thead>\n",
              "    <tr style=\"text-align: right;\">\n",
              "      <th></th>\n",
              "      <th>Id</th>\n",
              "      <th>RI</th>\n",
              "      <th>Na</th>\n",
              "      <th>Mg</th>\n",
              "      <th>Al</th>\n",
              "      <th>Si</th>\n",
              "      <th>K</th>\n",
              "      <th>Ca</th>\n",
              "      <th>Ba</th>\n",
              "      <th>Fe</th>\n",
              "      <th>Type</th>\n",
              "    </tr>\n",
              "  </thead>\n",
              "  <tbody>\n",
              "    <tr>\n",
              "      <th>count</th>\n",
              "      <td>214.000000</td>\n",
              "      <td>214.000000</td>\n",
              "      <td>214.000000</td>\n",
              "      <td>214.000000</td>\n",
              "      <td>214.000000</td>\n",
              "      <td>214.000000</td>\n",
              "      <td>214.000000</td>\n",
              "      <td>214.000000</td>\n",
              "      <td>214.000000</td>\n",
              "      <td>214.000000</td>\n",
              "      <td>214.000000</td>\n",
              "    </tr>\n",
              "    <tr>\n",
              "      <th>mean</th>\n",
              "      <td>107.500000</td>\n",
              "      <td>1.518365</td>\n",
              "      <td>13.407850</td>\n",
              "      <td>2.684533</td>\n",
              "      <td>1.444907</td>\n",
              "      <td>72.650935</td>\n",
              "      <td>0.497056</td>\n",
              "      <td>8.956963</td>\n",
              "      <td>0.175047</td>\n",
              "      <td>0.057009</td>\n",
              "      <td>2.780374</td>\n",
              "    </tr>\n",
              "    <tr>\n",
              "      <th>std</th>\n",
              "      <td>61.920648</td>\n",
              "      <td>0.003037</td>\n",
              "      <td>0.816604</td>\n",
              "      <td>1.442408</td>\n",
              "      <td>0.499270</td>\n",
              "      <td>0.774546</td>\n",
              "      <td>0.652192</td>\n",
              "      <td>1.423153</td>\n",
              "      <td>0.497219</td>\n",
              "      <td>0.097439</td>\n",
              "      <td>2.103739</td>\n",
              "    </tr>\n",
              "    <tr>\n",
              "      <th>min</th>\n",
              "      <td>1.000000</td>\n",
              "      <td>1.511150</td>\n",
              "      <td>10.730000</td>\n",
              "      <td>0.000000</td>\n",
              "      <td>0.290000</td>\n",
              "      <td>69.810000</td>\n",
              "      <td>0.000000</td>\n",
              "      <td>5.430000</td>\n",
              "      <td>0.000000</td>\n",
              "      <td>0.000000</td>\n",
              "      <td>1.000000</td>\n",
              "    </tr>\n",
              "    <tr>\n",
              "      <th>25%</th>\n",
              "      <td>54.250000</td>\n",
              "      <td>1.516523</td>\n",
              "      <td>12.907500</td>\n",
              "      <td>2.115000</td>\n",
              "      <td>1.190000</td>\n",
              "      <td>72.280000</td>\n",
              "      <td>0.122500</td>\n",
              "      <td>8.240000</td>\n",
              "      <td>0.000000</td>\n",
              "      <td>0.000000</td>\n",
              "      <td>1.000000</td>\n",
              "    </tr>\n",
              "    <tr>\n",
              "      <th>50%</th>\n",
              "      <td>107.500000</td>\n",
              "      <td>1.517680</td>\n",
              "      <td>13.300000</td>\n",
              "      <td>3.480000</td>\n",
              "      <td>1.360000</td>\n",
              "      <td>72.790000</td>\n",
              "      <td>0.555000</td>\n",
              "      <td>8.600000</td>\n",
              "      <td>0.000000</td>\n",
              "      <td>0.000000</td>\n",
              "      <td>2.000000</td>\n",
              "    </tr>\n",
              "    <tr>\n",
              "      <th>75%</th>\n",
              "      <td>160.750000</td>\n",
              "      <td>1.519157</td>\n",
              "      <td>13.825000</td>\n",
              "      <td>3.600000</td>\n",
              "      <td>1.630000</td>\n",
              "      <td>73.087500</td>\n",
              "      <td>0.610000</td>\n",
              "      <td>9.172500</td>\n",
              "      <td>0.000000</td>\n",
              "      <td>0.100000</td>\n",
              "      <td>3.000000</td>\n",
              "    </tr>\n",
              "    <tr>\n",
              "      <th>max</th>\n",
              "      <td>214.000000</td>\n",
              "      <td>1.533930</td>\n",
              "      <td>17.380000</td>\n",
              "      <td>4.490000</td>\n",
              "      <td>3.500000</td>\n",
              "      <td>75.410000</td>\n",
              "      <td>6.210000</td>\n",
              "      <td>16.190000</td>\n",
              "      <td>3.150000</td>\n",
              "      <td>0.510000</td>\n",
              "      <td>7.000000</td>\n",
              "    </tr>\n",
              "  </tbody>\n",
              "</table>\n",
              "</div>"
            ],
            "text/plain": [
              "               Id          RI          Na          Mg          Al          Si  \\\n",
              "count  214.000000  214.000000  214.000000  214.000000  214.000000  214.000000   \n",
              "mean   107.500000    1.518365   13.407850    2.684533    1.444907   72.650935   \n",
              "std     61.920648    0.003037    0.816604    1.442408    0.499270    0.774546   \n",
              "min      1.000000    1.511150   10.730000    0.000000    0.290000   69.810000   \n",
              "25%     54.250000    1.516523   12.907500    2.115000    1.190000   72.280000   \n",
              "50%    107.500000    1.517680   13.300000    3.480000    1.360000   72.790000   \n",
              "75%    160.750000    1.519157   13.825000    3.600000    1.630000   73.087500   \n",
              "max    214.000000    1.533930   17.380000    4.490000    3.500000   75.410000   \n",
              "\n",
              "                K          Ca          Ba          Fe        Type  \n",
              "count  214.000000  214.000000  214.000000  214.000000  214.000000  \n",
              "mean     0.497056    8.956963    0.175047    0.057009    2.780374  \n",
              "std      0.652192    1.423153    0.497219    0.097439    2.103739  \n",
              "min      0.000000    5.430000    0.000000    0.000000    1.000000  \n",
              "25%      0.122500    8.240000    0.000000    0.000000    1.000000  \n",
              "50%      0.555000    8.600000    0.000000    0.000000    2.000000  \n",
              "75%      0.610000    9.172500    0.000000    0.100000    3.000000  \n",
              "max      6.210000   16.190000    3.150000    0.510000    7.000000  "
            ]
          },
          "metadata": {
            "tags": []
          },
          "execution_count": 59
        }
      ]
    },
    {
      "cell_type": "code",
      "metadata": {
        "id": "pe-F3XEpbFSY",
        "outputId": "6cd90f6f-3ee2-45f7-bc5d-e1d44e3c4f9b"
      },
      "source": [
        "x=df.iloc[:,[1,2,3,4,5,6,7,8,9]].values\n",
        "x"
      ],
      "execution_count": null,
      "outputs": [
        {
          "output_type": "execute_result",
          "data": {
            "text/plain": [
              "array([[ 1.52101, 13.64   ,  4.49   , ...,  8.75   ,  0.     ,  0.     ],\n",
              "       [ 1.51761, 13.89   ,  3.6    , ...,  7.83   ,  0.     ,  0.     ],\n",
              "       [ 1.51618, 13.53   ,  3.55   , ...,  7.78   ,  0.     ,  0.     ],\n",
              "       ...,\n",
              "       [ 1.52065, 14.36   ,  0.     , ...,  8.44   ,  1.64   ,  0.     ],\n",
              "       [ 1.51651, 14.38   ,  0.     , ...,  8.48   ,  1.57   ,  0.     ],\n",
              "       [ 1.51711, 14.23   ,  0.     , ...,  8.62   ,  1.67   ,  0.     ]])"
            ]
          },
          "metadata": {
            "tags": []
          },
          "execution_count": 60
        }
      ]
    },
    {
      "cell_type": "code",
      "metadata": {
        "id": "mnq-PWZobFSZ",
        "outputId": "456f1eb8-b330-476b-f310-a303d8aaedac"
      },
      "source": [
        "y=df[\"Type\"]\n",
        "y=np.array(y)\n",
        "y"
      ],
      "execution_count": null,
      "outputs": [
        {
          "output_type": "execute_result",
          "data": {
            "text/plain": [
              "array([1, 1, 1, 1, 1, 1, 1, 1, 1, 1, 1, 1, 1, 1, 1, 1, 1, 1, 1, 1, 1, 1,\n",
              "       1, 1, 1, 1, 1, 1, 1, 1, 1, 1, 1, 1, 1, 1, 1, 1, 1, 1, 1, 1, 1, 1,\n",
              "       1, 1, 1, 1, 1, 1, 1, 1, 1, 1, 1, 1, 1, 1, 1, 1, 1, 1, 1, 1, 1, 1,\n",
              "       1, 1, 1, 1, 2, 2, 2, 2, 2, 2, 2, 2, 2, 2, 2, 2, 2, 2, 2, 2, 2, 2,\n",
              "       2, 2, 2, 2, 2, 2, 2, 2, 2, 2, 2, 2, 2, 2, 2, 2, 2, 2, 2, 2, 2, 2,\n",
              "       2, 2, 2, 2, 2, 2, 2, 2, 2, 2, 2, 2, 2, 2, 2, 2, 2, 2, 2, 2, 2, 2,\n",
              "       2, 2, 2, 2, 2, 2, 2, 2, 2, 2, 2, 2, 2, 2, 3, 3, 3, 3, 3, 3, 3, 3,\n",
              "       3, 3, 3, 3, 3, 3, 3, 3, 3, 5, 5, 5, 5, 5, 5, 5, 5, 5, 5, 5, 5, 5,\n",
              "       6, 6, 6, 6, 6, 6, 6, 6, 6, 7, 7, 7, 7, 7, 7, 7, 7, 7, 7, 7, 7, 7,\n",
              "       7, 7, 7, 7, 7, 7, 7, 7, 7, 7, 7, 7, 7, 7, 7, 7], dtype=int64)"
            ]
          },
          "metadata": {
            "tags": []
          },
          "execution_count": 61
        }
      ]
    },
    {
      "cell_type": "code",
      "metadata": {
        "id": "dPLiqvVpbFSa",
        "outputId": "69fb3995-4146-43d8-e0d3-04c3dd0d25bf"
      },
      "source": [
        "dbscan=DBSCAN()\n",
        "dbscan.fit(x)"
      ],
      "execution_count": null,
      "outputs": [
        {
          "output_type": "execute_result",
          "data": {
            "text/plain": [
              "DBSCAN()"
            ]
          },
          "metadata": {
            "tags": []
          },
          "execution_count": 70
        }
      ]
    },
    {
      "cell_type": "code",
      "metadata": {
        "id": "ilqocyJ-bFSb"
      },
      "source": [
        "pca=PCA(n_components=7).fit(x)\n",
        "pca_1=pca.transform(x)"
      ],
      "execution_count": null,
      "outputs": []
    },
    {
      "cell_type": "code",
      "metadata": {
        "id": "aFzZLMmHbFSb",
        "outputId": "b3eb8143-2325-4c27-a2e7-155201f12343"
      },
      "source": [
        "pca_1.shape"
      ],
      "execution_count": null,
      "outputs": [
        {
          "output_type": "execute_result",
          "data": {
            "text/plain": [
              "(214, 7)"
            ]
          },
          "metadata": {
            "tags": []
          },
          "execution_count": 77
        }
      ]
    },
    {
      "cell_type": "code",
      "metadata": {
        "id": "DAb5lQOubFSb",
        "outputId": "46eb3234-372c-4d8c-f9ef-ee1d596085a0"
      },
      "source": [
        "dbscan.labels_"
      ],
      "execution_count": null,
      "outputs": [
        {
          "output_type": "execute_result",
          "data": {
            "text/plain": [
              "array([-1,  0,  0,  0,  0,  0,  0,  0, -1,  0,  0,  0,  0,  0,  0,  0,  0,\n",
              "        1, -1,  0,  0, -1,  0,  0,  0,  0,  0,  0,  0,  0,  0,  0,  0,  0,\n",
              "        0,  0,  0,  0,  1,  1,  0,  0,  0,  1,  0,  0,  0,  1,  1,  0,  1,\n",
              "        0, -1,  0,  0, -1,  0,  0,  0,  0, -1, -1,  1,  1,  1,  1,  1,  1,\n",
              "        1,  1, -1, -1,  0,  0,  0,  0,  0,  0, -1,  0,  0,  0,  0,  0, -1,\n",
              "        0,  0,  0,  0,  0,  0,  0,  0,  0,  0,  0,  0, -1, -1,  0,  0, -1,\n",
              "       -1, -1, -1, -1, -1, -1, -1, -1, -1, -1, -1,  0,  0,  0,  0, -1,  0,\n",
              "        0,  0,  0,  0,  0,  0,  0,  0, -1, -1, -1, -1, -1,  0, -1,  0,  0,\n",
              "        0,  0,  0,  0,  0,  0,  0,  0,  0,  0, -1,  0,  0,  0,  0,  1, -1,\n",
              "        0,  0,  0,  0,  1,  0,  0,  0, -1, -1, -1, -1, -1, -1, -1, -1, -1,\n",
              "       -1, -1, -1, -1, -1, -1, -1, -1, -1, -1, -1, -1, -1, -1, -1, -1, -1,\n",
              "        0, -1, -1, -1,  3, -1,  2,  2, -1, -1,  3, -1,  3,  3, -1, -1,  2,\n",
              "        3,  2,  2, -1, -1, -1,  2,  2,  2,  2], dtype=int64)"
            ]
          },
          "metadata": {
            "tags": []
          },
          "execution_count": 78
        }
      ]
    },
    {
      "cell_type": "code",
      "metadata": {
        "id": "VYke4xCAbFSc",
        "outputId": "4bbf1d97-b55f-45df-db88-23e48cdcfd33"
      },
      "source": [
        "# Plot based on Class\n",
        "for i in range(0, pca_1.shape[0]):\n",
        "    if dbscan.labels_[i] == 0:\n",
        "        c1 = plt.scatter(pca_1[i, 0], pca_1[i, 1], c='r', marker='+')\n",
        "    elif dbscan.labels_[i] == -1:\n",
        "        c2 = plt.scatter(pca_1[i, 0], pca_1[i, 1], c='g', marker='o')\n",
        "    elif dbscan.labels_[i] == 1:\n",
        "        c3 = plt.scatter(pca_1[i, 0], pca_1[i, 1], c='b', marker='*')\n",
        "    elif dbscan.labels_[i] == 2:\n",
        "        c4 = plt.scatter(pca_1[i, 0], pca_1[i, 1], c='y', marker='D')\n",
        "    elif dbscan.labels_[i] == 3:\n",
        "        c5 = plt.scatter(pca_1[i, 0], pca_1[i, 1], c='r', marker='.')\n",
        "\n",
        "plt.legend([c1, c2, c3, c4,c5], ['Cluster 1', 'Noise', 'Cluster 2','Cluster 3','Cluster 4'])\n",
        "plt.title('DBSCAN finds 2 clusters and Noise')\n",
        "plt.show()"
      ],
      "execution_count": null,
      "outputs": [
        {
          "output_type": "display_data",
          "data": {
            "image/png": "[encoded data removed]",
            "text/plain": [
              "<Figure size 432x288 with 1 Axes>"
            ]
          },
          "metadata": {
            "tags": [],
            "needs_background": "light"
          }
        }
      ]
    },
    {
      "cell_type": "markdown",
      "metadata": {
        "id": "B5OwMySBbFSc"
      },
      "source": [
        "# hirerachical"
      ]
    },
    {
      "cell_type": "code",
      "metadata": {
        "id": "xiRQLeWnbFSd"
      },
      "source": [
        "import sklearn.preprocessing as pp\n",
        "import scipy.cluster.hierarchy as shc\n",
        "import nbformat"
      ],
      "execution_count": null,
      "outputs": []
    },
    {
      "cell_type": "code",
      "metadata": {
        "id": "ehTLax6WbFSd",
        "outputId": "d0d64089-8846-44da-b65e-54292aa8af64"
      },
      "source": [
        "scaler = pp.StandardScaler() \n",
        "scaled_df = scaler.fit_transform(df) \n",
        "  \n",
        "# Normalizing the Data \n",
        "normalized_df = pp.normalize(scaled_df) \n",
        "  \n",
        "# Converting the numpy array into a pandas DataFrame \n",
        "normalized_df = pd.DataFrame(normalized_df) \n",
        "\n",
        "normalized_df.describe()"
      ],
      "execution_count": null,
      "outputs": [
        {
          "output_type": "execute_result",
          "data": {
            "text/html": [
              "<div>\n",
              "<style scoped>\n",
              "    .dataframe tbody tr th:only-of-type {\n",
              "        vertical-align: middle;\n",
              "    }\n",
              "\n",
              "    .dataframe tbody tr th {\n",
              "        vertical-align: top;\n",
              "    }\n",
              "\n",
              "    .dataframe thead th {\n",
              "        text-align: right;\n",
              "    }\n",
              "</style>\n",
              "<table border=\"1\" class=\"dataframe\">\n",
              "  <thead>\n",
              "    <tr style=\"text-align: right;\">\n",
              "      <th></th>\n",
              "      <th>0</th>\n",
              "      <th>1</th>\n",
              "      <th>2</th>\n",
              "      <th>3</th>\n",
              "      <th>4</th>\n",
              "      <th>5</th>\n",
              "      <th>6</th>\n",
              "      <th>7</th>\n",
              "      <th>8</th>\n",
              "      <th>9</th>\n",
              "      <th>10</th>\n",
              "    </tr>\n",
              "  </thead>\n",
              "  <tbody>\n",
              "    <tr>\n",
              "      <th>count</th>\n",
              "      <td>214.000000</td>\n",
              "      <td>214.000000</td>\n",
              "      <td>214.000000</td>\n",
              "      <td>214.000000</td>\n",
              "      <td>214.000000</td>\n",
              "      <td>214.000000</td>\n",
              "      <td>214.000000</td>\n",
              "      <td>214.000000</td>\n",
              "      <td>214.000000</td>\n",
              "      <td>214.000000</td>\n",
              "      <td>214.000000</td>\n",
              "    </tr>\n",
              "    <tr>\n",
              "      <th>mean</th>\n",
              "      <td>-0.056641</td>\n",
              "      <td>-0.047953</td>\n",
              "      <td>-0.048867</td>\n",
              "      <td>0.118744</td>\n",
              "      <td>-0.040429</td>\n",
              "      <td>0.017930</td>\n",
              "      <td>-0.002312</td>\n",
              "      <td>-0.061381</td>\n",
              "      <td>-0.081430</td>\n",
              "      <td>-0.029082</td>\n",
              "      <td>-0.093360</td>\n",
              "    </tr>\n",
              "    <tr>\n",
              "      <th>std</th>\n",
              "      <td>0.381434</td>\n",
              "      <td>0.288683</td>\n",
              "      <td>0.288403</td>\n",
              "      <td>0.310001</td>\n",
              "      <td>0.282218</td>\n",
              "      <td>0.287475</td>\n",
              "      <td>0.170497</td>\n",
              "      <td>0.271280</td>\n",
              "      <td>0.217146</td>\n",
              "      <td>0.378067</td>\n",
              "      <td>0.312133</td>\n",
              "    </tr>\n",
              "    <tr>\n",
              "      <th>min</th>\n",
              "      <td>-0.750928</td>\n",
              "      <td>-0.550638</td>\n",
              "      <td>-0.779102</td>\n",
              "      <td>-0.595861</td>\n",
              "      <td>-0.729044</td>\n",
              "      <td>-0.645751</td>\n",
              "      <td>-0.385699</td>\n",
              "      <td>-0.491186</td>\n",
              "      <td>-0.316944</td>\n",
              "      <td>-0.583876</td>\n",
              "      <td>-0.590184</td>\n",
              "    </tr>\n",
              "    <tr>\n",
              "      <th>25%</th>\n",
              "      <td>-0.343445</td>\n",
              "      <td>-0.236938</td>\n",
              "      <td>-0.271861</td>\n",
              "      <td>-0.141449</td>\n",
              "      <td>-0.241471</td>\n",
              "      <td>-0.219258</td>\n",
              "      <td>-0.154345</td>\n",
              "      <td>-0.240675</td>\n",
              "      <td>-0.200163</td>\n",
              "      <td>-0.299359</td>\n",
              "      <td>-0.332679</td>\n",
              "    </tr>\n",
              "    <tr>\n",
              "      <th>50%</th>\n",
              "      <td>0.000066</td>\n",
              "      <td>-0.100549</td>\n",
              "      <td>-0.061748</td>\n",
              "      <td>0.257821</td>\n",
              "      <td>-0.065618</td>\n",
              "      <td>0.085075</td>\n",
              "      <td>0.042516</td>\n",
              "      <td>-0.086704</td>\n",
              "      <td>-0.147773</td>\n",
              "      <td>-0.164510</td>\n",
              "      <td>-0.210837</td>\n",
              "    </tr>\n",
              "    <tr>\n",
              "      <th>75%</th>\n",
              "      <td>0.292883</td>\n",
              "      <td>0.116437</td>\n",
              "      <td>0.183359</td>\n",
              "      <td>0.319212</td>\n",
              "      <td>0.151296</td>\n",
              "      <td>0.223266</td>\n",
              "      <td>0.086365</td>\n",
              "      <td>0.074412</td>\n",
              "      <td>-0.089725</td>\n",
              "      <td>0.223417</td>\n",
              "      <td>0.074670</td>\n",
              "    </tr>\n",
              "    <tr>\n",
              "      <th>max</th>\n",
              "      <td>0.623421</td>\n",
              "      <td>0.695551</td>\n",
              "      <td>0.639036</td>\n",
              "      <td>0.661546</td>\n",
              "      <td>0.629221</td>\n",
              "      <td>0.598068</td>\n",
              "      <td>0.857508</td>\n",
              "      <td>0.685240</td>\n",
              "      <td>0.792213</td>\n",
              "      <td>0.911775</td>\n",
              "      <td>0.660915</td>\n",
              "    </tr>\n",
              "  </tbody>\n",
              "</table>\n",
              "</div>"
            ],
            "text/plain": [
              "               0           1           2           3           4           5   \\\n",
              "count  214.000000  214.000000  214.000000  214.000000  214.000000  214.000000   \n",
              "mean    -0.056641   -0.047953   -0.048867    0.118744   -0.040429    0.017930   \n",
              "std      0.381434    0.288683    0.288403    0.310001    0.282218    0.287475   \n",
              "min     -0.750928   -0.550638   -0.779102   -0.595861   -0.729044   -0.645751   \n",
              "25%     -0.343445   -0.236938   -0.271861   -0.141449   -0.241471   -0.219258   \n",
              "50%      0.000066   -0.100549   -0.061748    0.257821   -0.065618    0.085075   \n",
              "75%      0.292883    0.116437    0.183359    0.319212    0.151296    0.223266   \n",
              "max      0.623421    0.695551    0.639036    0.661546    0.629221    0.598068   \n",
              "\n",
              "               6           7           8           9           10  \n",
              "count  214.000000  214.000000  214.000000  214.000000  214.000000  \n",
              "mean    -0.002312   -0.061381   -0.081430   -0.029082   -0.093360  \n",
              "std      0.170497    0.271280    0.217146    0.378067    0.312133  \n",
              "min     -0.385699   -0.491186   -0.316944   -0.583876   -0.590184  \n",
              "25%     -0.154345   -0.240675   -0.200163   -0.299359   -0.332679  \n",
              "50%      0.042516   -0.086704   -0.147773   -0.164510   -0.210837  \n",
              "75%      0.086365    0.074412   -0.089725    0.223417    0.074670  \n",
              "max      0.857508    0.685240    0.792213    0.911775    0.660915  "
            ]
          },
          "metadata": {
            "tags": []
          },
          "execution_count": 20
        }
      ]
    },
    {
      "cell_type": "code",
      "metadata": {
        "id": "DNidqUlhbFSe",
        "outputId": "7b472c83-3967-4c63-879b-5a6f69579913"
      },
      "source": [
        "plt.figure(figsize=(30,20))\n",
        "plt.title(\"Credit Dendograms\")\n",
        "dend = shc.dendrogram(shc.linkage(df, method='ward'))\n",
        "plt.show()"
      ],
      "execution_count": null,
      "outputs": [
        {
          "output_type": "display_data",
          "data": {
            "image/png": "[encoded data removed]",
            "text/plain": [
              "<Figure size 2160x1440 with 1 Axes>"
            ]
          },
          "metadata": {
            "tags": [],
            "needs_background": "light"
          }
        }
      ]
    },
    {
      "cell_type": "code",
      "metadata": {
        "id": "m_N2X2FwbFSe"
      },
      "source": [
        ""
      ],
      "execution_count": null,
      "outputs": []
    },
    {
      "cell_type": "code",
      "metadata": {
        "id": "515X3GA0bFSe",
        "outputId": "9096135e-34c9-4cab-ce5c-ae227515a1c5"
      },
      "source": [
        "from sklearn.cluster import KMeans\n",
        "\n",
        "kmeans_models = [KMeans(n_clusters=k, random_state=23).fit(pca_1) for k in range (1, 10)]\n",
        "innertia = [model.inertia_ for model in kmeans_models]\n",
        "\n",
        "plt.plot(range(1, 10), innertia)\n",
        "plt.title('Elbow method')\n",
        "plt.xlabel('Number of Clusters')\n",
        "plt.ylabel('WCSS')\n",
        "plt.show()"
      ],
      "execution_count": null,
      "outputs": [
        {
          "output_type": "display_data",
          "data": {
            "image/png": "[encoded data removed]",
            "text/plain": [
              "<Figure size 432x288 with 1 Axes>"
            ]
          },
          "metadata": {
            "tags": [],
            "needs_background": "light"
          }
        }
      ]
    },
    {
      "cell_type": "code",
      "metadata": {
        "id": "KaroOHg9bFSf",
        "outputId": "5af37fd8-9501-44ef-a6fd-7c7f71feeca2"
      },
      "source": [
        "from sklearn.metrics import silhouette_score\n",
        "\n",
        "silhoutte_scores = [silhouette_score(pca_1, model.labels_) for model in kmeans_models[1:4]]\n",
        "plt.plot(range(2,5), silhoutte_scores, \"bo-\")\n",
        "plt.xticks([2, 3, 4])\n",
        "plt.title('Silhoutte scores vs Number of clusters')\n",
        "plt.xlabel('Number of clusters')\n",
        "plt.ylabel('Silhoutte score')\n",
        "plt.show()"
      ],
      "execution_count": null,
      "outputs": [
        {
          "output_type": "display_data",
          "data": {
            "image/png": "[encoded data removed]",
            "text/plain": [
              "<Figure size 432x288 with 1 Axes>"
            ]
          },
          "metadata": {
            "tags": [],
            "needs_background": "light"
          }
        }
      ]
    },
    {
      "cell_type": "code",
      "metadata": {
        "id": "cxope8xSbFSf",
        "outputId": "a6eb4d47-03b5-4672-f621-33a89343b90b"
      },
      "source": [
        "from sklearn.metrics import silhouette_score\n",
        "\n",
        "kmeans = KMeans(n_clusters=2, random_state=23)\n",
        "kmeans.fit(pca_1)\n",
        "\n",
        "print('Silhoutte score of our model is ' + str(silhouette_score(pca_1, kmeans.labels_)))"
      ],
      "execution_count": null,
      "outputs": [
        {
          "output_type": "stream",
          "text": [
            "Silhoutte score of our model is 0.5602628011615023\n"
          ],
          "name": "stdout"
        }
      ]
    }
  ]
}